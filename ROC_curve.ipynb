{
  "nbformat": 4,
  "nbformat_minor": 0,
  "metadata": {
    "colab": {
      "name": "ROC_curve.ipynb",
      "provenance": [],
      "authorship_tag": "ABX9TyMP8Z+GbwduPuPIxUe55lnv",
      "include_colab_link": true
    },
    "kernelspec": {
      "name": "python3",
      "display_name": "Python 3"
    },
    "language_info": {
      "name": "python"
    },
    "accelerator": "GPU"
  },
  "cells": [
    {
      "cell_type": "markdown",
      "metadata": {
        "id": "view-in-github",
        "colab_type": "text"
      },
      "source": [
        "<a href=\"https://colab.research.google.com/github/IT-17005/Schizophrenia/blob/main/ROC_curve.ipynb\" target=\"_parent\"><img src=\"https://colab.research.google.com/assets/colab-badge.svg\" alt=\"Open In Colab\"/></a>"
      ]
    },
    {
      "cell_type": "code",
      "execution_count": 1,
      "metadata": {
        "id": "PZNMgps9_Iyq"
      },
      "outputs": [],
      "source": [
        "import pandas as pd\n",
        "import numpy as np\n",
        "%matplotlib inline\n",
        "import matplotlib.pyplot as plt\n",
        "import seaborn as sns\n",
        "sns.set()\n",
        "import warnings\n",
        "warnings.filterwarnings('ignore')\n",
        "\n",
        "import matplotlib.pyplot as plt\n",
        "import cv2\n",
        "import tensorflow as tf\n",
        "from tensorflow.keras.preprocessing.image import ImageDataGenerator\n",
        "from tqdm import tqdm\n",
        "import os\n",
        "from sklearn.utils import shuffle\n",
        "from sklearn.model_selection import train_test_split\n",
        "from tensorflow.keras.callbacks import EarlyStopping, ReduceLROnPlateau, TensorBoard, ModelCheckpoint\n",
        "from sklearn.metrics import classification_report,confusion_matrix\n",
        "import ipywidgets as widgets\n",
        "import io\n",
        "from PIL import Image\n",
        "from IPython.display import display,clear_output\n",
        "from warnings import filterwarnings"
      ]
    },
    {
      "cell_type": "code",
      "source": [
        "from google.colab import drive \n",
        "drive.mount('/content/gdrive')"
      ],
      "metadata": {
        "colab": {
          "base_uri": "https://localhost:8080/"
        },
        "id": "SirXNPr3_f8N",
        "outputId": "497ff5f4-5930-4ac4-bbe2-c16f9afc3d2f"
      },
      "execution_count": 2,
      "outputs": [
        {
          "output_type": "stream",
          "name": "stdout",
          "text": [
            "Mounted at /content/gdrive\n"
          ]
        }
      ]
    },
    {
      "cell_type": "code",
      "source": [
        "labels = ['non-scz','scz']"
      ],
      "metadata": {
        "id": "l1kLty_E_21x"
      },
      "execution_count": 3,
      "outputs": []
    },
    {
      "cell_type": "code",
      "source": [
        "X_train = []\n",
        "y_train = []\n",
        "image_size = 224\n",
        "for i in labels:\n",
        "    folderPath = os.path.join('/content/gdrive/MyDrive/SchiFinalDataset','train',i)\n",
        "    for j in tqdm(os.listdir(folderPath)):\n",
        "        img = cv2.imread(os.path.join(folderPath,j))\n",
        "        img = cv2.resize(img,(image_size, image_size))\n",
        "        X_train.append(img)\n",
        "        y_train.append(i)\n",
        "        \n",
        "for i in labels:\n",
        "    folderPath = os.path.join('/content/gdrive/MyDrive/SchiFinalDataset','val',i)\n",
        "    for j in tqdm(os.listdir(folderPath)):\n",
        "        img = cv2.imread(os.path.join(folderPath,j))\n",
        "        img = cv2.resize(img,(image_size,image_size))\n",
        "        X_train.append(img)\n",
        "        y_train.append(i)\n",
        "        \n",
        "X_train = np.array(X_train)\n",
        "y_train = np.array(y_train)"
      ],
      "metadata": {
        "colab": {
          "base_uri": "https://localhost:8080/"
        },
        "id": "gzqZWzOI_vyQ",
        "outputId": "38a81a83-4c60-455e-cf93-439816e7e518"
      },
      "execution_count": 5,
      "outputs": [
        {
          "output_type": "stream",
          "name": "stderr",
          "text": [
            "100%|██████████| 1400/1400 [00:06<00:00, 233.13it/s]\n",
            "100%|██████████| 1120/1120 [00:27<00:00, 40.85it/s] \n",
            "100%|██████████| 400/400 [00:07<00:00, 55.81it/s] \n",
            "100%|██████████| 320/320 [00:06<00:00, 52.40it/s] \n"
          ]
        }
      ]
    },
    {
      "cell_type": "code",
      "source": [
        "X_train, y_train = shuffle(X_train,y_train, random_state=101)"
      ],
      "metadata": {
        "id": "EIeso4YLBAtE"
      },
      "execution_count": 6,
      "outputs": []
    },
    {
      "cell_type": "code",
      "source": [
        "X_train.shape"
      ],
      "metadata": {
        "colab": {
          "base_uri": "https://localhost:8080/"
        },
        "id": "kFW9DoAcBEHJ",
        "outputId": "e67e5e96-a9f0-4a95-e689-a7fc25eb9db2"
      },
      "execution_count": 7,
      "outputs": [
        {
          "output_type": "execute_result",
          "data": {
            "text/plain": [
              "(3240, 224, 224, 3)"
            ]
          },
          "metadata": {},
          "execution_count": 7
        }
      ]
    },
    {
      "cell_type": "code",
      "source": [
        "X_train,X_test,y_train,y_test = train_test_split(X_train,y_train, test_size=0.2,random_state=101)"
      ],
      "metadata": {
        "id": "WGNySMb_BKDC"
      },
      "execution_count": 8,
      "outputs": []
    },
    {
      "cell_type": "code",
      "source": [
        "y_train_new = []\n",
        "for i in y_train:\n",
        "    y_train_new.append(labels.index(i))\n",
        "y_train = y_train_new\n",
        "y_train = tf.keras.utils.to_categorical(y_train)\n",
        "\n",
        "\n",
        "y_test_new = []\n",
        "for i in y_test:\n",
        "    y_test_new.append(labels.index(i))\n",
        "y_test = y_test_new\n",
        "y_test = tf.keras.utils.to_categorical(y_test)"
      ],
      "metadata": {
        "id": "-V8cqIUIBMHm"
      },
      "execution_count": 9,
      "outputs": []
    },
    {
      "cell_type": "code",
      "source": [
        "from tensorflow.keras.applications.resnet50 import ResNet50\n",
        "from tensorflow.keras.applications.vgg19 import VGG19\n",
        "from tensorflow.keras.applications.vgg16 import VGG16\n",
        "\n",
        "vgg16 = VGG16(input_shape=(image_size,image_size,3), # Shape of our images\n",
        "include_top = False, # Leave out the last fully connected layer\n",
        "weights = 'imagenet')\n",
        "\n",
        "vgg19 = VGG19(input_shape=(image_size,image_size,3), # Shape of our images\n",
        "include_top = False, # Leave out the last fully connected layer\n",
        "weights = 'imagenet')\n",
        "\n",
        "efficientnet = tf.keras.applications.EfficientNetB0(input_shape=(image_size,image_size,3), # Shape of our images\n",
        "include_top = False, # Leave out the last fully connected layer\n",
        "weights = 'imagenet')\n",
        "\n",
        "inceptionv3 = tf.keras.applications.InceptionV3(input_shape=(image_size,image_size,3), # Shape of our images\n",
        "include_top = False, # Leave out the last fully connected layer\n",
        "weights = 'imagenet')\n",
        "\n",
        "resnet50 = ResNet50(input_shape=(image_size,image_size,3), # Shape of our images\n",
        "include_top = False, # Leave out the last fully connected layer\n",
        "weights = 'imagenet')"
      ],
      "metadata": {
        "colab": {
          "base_uri": "https://localhost:8080/"
        },
        "id": "rYo65QklCKUc",
        "outputId": "af540f25-ae99-49f5-96e8-aa23ff509e75"
      },
      "execution_count": 10,
      "outputs": [
        {
          "output_type": "stream",
          "name": "stdout",
          "text": [
            "Downloading data from https://storage.googleapis.com/tensorflow/keras-applications/vgg16/vgg16_weights_tf_dim_ordering_tf_kernels_notop.h5\n",
            "58892288/58889256 [==============================] - 1s 0us/step\n",
            "58900480/58889256 [==============================] - 1s 0us/step\n",
            "Downloading data from https://storage.googleapis.com/tensorflow/keras-applications/vgg19/vgg19_weights_tf_dim_ordering_tf_kernels_notop.h5\n",
            "80142336/80134624 [==============================] - 0s 0us/step\n",
            "80150528/80134624 [==============================] - 0s 0us/step\n",
            "Downloading data from https://storage.googleapis.com/keras-applications/efficientnetb0_notop.h5\n",
            "16711680/16705208 [==============================] - 0s 0us/step\n",
            "16719872/16705208 [==============================] - 0s 0us/step\n",
            "Downloading data from https://storage.googleapis.com/tensorflow/keras-applications/inception_v3/inception_v3_weights_tf_dim_ordering_tf_kernels_notop.h5\n",
            "87916544/87910968 [==============================] - 0s 0us/step\n",
            "87924736/87910968 [==============================] - 0s 0us/step\n",
            "Downloading data from https://storage.googleapis.com/tensorflow/keras-applications/resnet/resnet50_weights_tf_dim_ordering_tf_kernels_notop.h5\n",
            "94773248/94765736 [==============================] - 1s 0us/step\n",
            "94781440/94765736 [==============================] - 1s 0us/step\n"
          ]
        }
      ]
    },
    {
      "cell_type": "code",
      "source": [
        "from keras.models import Sequential\n",
        "from keras.layers import Input,Dense\n",
        "from sklearn.metrics import accuracy_score, f1_score, precision_score, recall_score, confusion_matrix\n",
        "from keras.layers.convolutional import Conv2D\n",
        "from keras.layers.convolutional import MaxPooling2D\n",
        "from keras.layers.core import Activation, Flatten, Dropout, Dense\n",
        "\n",
        "model = Sequential()\n",
        "\n",
        "model.add(Conv2D(32, (3, 3), activation='relu', input_shape=(image_size,image_size,3)))\n",
        "model.add(MaxPooling2D(2, 2))\n",
        "\n",
        "model.add(Conv2D(64, (3, 3), activation='relu'))\n",
        "model.add(MaxPooling2D(2, 2))\n",
        "\n",
        "model.add(Conv2D(64, (3, 3), activation='relu'))\n",
        "model.add(MaxPooling2D(2, 2))\n",
        "\n",
        "model.add(Flatten())\n",
        "\n",
        "model.add(Dense(512, activation='relu'))\n",
        "model.add(Dropout(0.5))\n",
        "model.add(Dense(2, activation='softmax'))"
      ],
      "metadata": {
        "id": "R61IYZ5Vr-BG"
      },
      "execution_count": 11,
      "outputs": []
    },
    {
      "cell_type": "code",
      "source": [
        "for layer in vgg16.layers:\n",
        "    layer.trainable = False\n",
        "model_vgg16 = vgg16.output\n",
        "model_vgg16 = tf.keras.layers.GlobalAveragePooling2D()(model_vgg16)\n",
        "model_vgg16 = tf.keras.layers.Dropout(rate=0.5)(model_vgg16)\n",
        "model_vgg16 = tf.keras.layers.Dense(2,activation='softmax')(model_vgg16)\n",
        "model_vgg16 = tf.keras.models.Model(inputs=vgg16.input, outputs = model_vgg16)\n",
        "model_vgg16.compile(loss='categorical_crossentropy',optimizer = 'Adam', metrics= ['accuracy'])\n",
        "tensorboard = TensorBoard(log_dir = 'logs')\n",
        "checkpoint = ModelCheckpoint(\"vgg16.h5\",monitor=\"val_accuracy\",save_best_only=True,mode=\"auto\",verbose=1)\n",
        "reduce_lr = ReduceLROnPlateau(monitor = 'val_accuracy', factor = 0.4, patience = 2, min_delta = 0.001,\n",
        "                              mode='auto',verbose=1)\n",
        "model_vgg16.fit(X_train,y_train,validation_split=0.1, epochs =20, verbose=1, batch_size=32,\n",
        "                   callbacks=[tensorboard,checkpoint,reduce_lr])"
      ],
      "metadata": {
        "colab": {
          "base_uri": "https://localhost:8080/"
        },
        "id": "Hu-DtmCQFgen",
        "outputId": "b37a6930-8834-4391-916d-3f9fb2b2dc77"
      },
      "execution_count": 12,
      "outputs": [
        {
          "output_type": "stream",
          "name": "stdout",
          "text": [
            "Epoch 1/20\n",
            "73/73 [==============================] - ETA: 0s - loss: 2.8116 - accuracy: 0.5330\n",
            "Epoch 1: val_accuracy improved from -inf to 0.63077, saving model to vgg16.h5\n",
            "73/73 [==============================] - 28s 202ms/step - loss: 2.8116 - accuracy: 0.5330 - val_loss: 0.8285 - val_accuracy: 0.6308 - lr: 0.0010\n",
            "Epoch 2/20\n",
            "73/73 [==============================] - ETA: 0s - loss: 1.6333 - accuracy: 0.5840\n",
            "Epoch 2: val_accuracy improved from 0.63077 to 0.73462, saving model to vgg16.h5\n",
            "73/73 [==============================] - 12s 158ms/step - loss: 1.6333 - accuracy: 0.5840 - val_loss: 0.6144 - val_accuracy: 0.7346 - lr: 0.0010\n",
            "Epoch 3/20\n",
            "73/73 [==============================] - ETA: 0s - loss: 1.0593 - accuracy: 0.6321\n",
            "Epoch 3: val_accuracy did not improve from 0.73462\n",
            "73/73 [==============================] - 12s 159ms/step - loss: 1.0593 - accuracy: 0.6321 - val_loss: 0.5782 - val_accuracy: 0.7115 - lr: 0.0010\n",
            "Epoch 4/20\n",
            "73/73 [==============================] - ETA: 0s - loss: 0.8030 - accuracy: 0.6685\n",
            "Epoch 4: val_accuracy improved from 0.73462 to 0.78077, saving model to vgg16.h5\n",
            "73/73 [==============================] - 12s 162ms/step - loss: 0.8030 - accuracy: 0.6685 - val_loss: 0.4630 - val_accuracy: 0.7808 - lr: 0.0010\n",
            "Epoch 5/20\n",
            "73/73 [==============================] - ETA: 0s - loss: 0.6536 - accuracy: 0.7097\n",
            "Epoch 5: val_accuracy improved from 0.78077 to 0.81923, saving model to vgg16.h5\n",
            "73/73 [==============================] - 12s 161ms/step - loss: 0.6536 - accuracy: 0.7097 - val_loss: 0.4226 - val_accuracy: 0.8192 - lr: 0.0010\n",
            "Epoch 6/20\n",
            "73/73 [==============================] - ETA: 0s - loss: 0.6294 - accuracy: 0.7153\n",
            "Epoch 6: val_accuracy did not improve from 0.81923\n",
            "73/73 [==============================] - 12s 160ms/step - loss: 0.6294 - accuracy: 0.7153 - val_loss: 0.4389 - val_accuracy: 0.8115 - lr: 0.0010\n",
            "Epoch 7/20\n",
            "73/73 [==============================] - ETA: 0s - loss: 0.5427 - accuracy: 0.7496\n",
            "Epoch 7: val_accuracy did not improve from 0.81923\n",
            "\n",
            "Epoch 7: ReduceLROnPlateau reducing learning rate to 0.0004000000189989805.\n",
            "73/73 [==============================] - 12s 164ms/step - loss: 0.5427 - accuracy: 0.7496 - val_loss: 0.4070 - val_accuracy: 0.8154 - lr: 0.0010\n",
            "Epoch 8/20\n",
            "73/73 [==============================] - ETA: 0s - loss: 0.5104 - accuracy: 0.7646\n",
            "Epoch 8: val_accuracy improved from 0.81923 to 0.83846, saving model to vgg16.h5\n",
            "73/73 [==============================] - 12s 166ms/step - loss: 0.5104 - accuracy: 0.7646 - val_loss: 0.3923 - val_accuracy: 0.8385 - lr: 4.0000e-04\n",
            "Epoch 9/20\n",
            "73/73 [==============================] - ETA: 0s - loss: 0.5049 - accuracy: 0.7526\n",
            "Epoch 9: val_accuracy did not improve from 0.83846\n",
            "73/73 [==============================] - 12s 166ms/step - loss: 0.5049 - accuracy: 0.7526 - val_loss: 0.4269 - val_accuracy: 0.8269 - lr: 4.0000e-04\n",
            "Epoch 10/20\n",
            "73/73 [==============================] - ETA: 0s - loss: 0.5050 - accuracy: 0.7577\n",
            "Epoch 10: val_accuracy did not improve from 0.83846\n",
            "\n",
            "Epoch 10: ReduceLROnPlateau reducing learning rate to 0.00016000000759959222.\n",
            "73/73 [==============================] - 12s 162ms/step - loss: 0.5050 - accuracy: 0.7577 - val_loss: 0.3951 - val_accuracy: 0.8231 - lr: 4.0000e-04\n",
            "Epoch 11/20\n",
            "73/73 [==============================] - ETA: 0s - loss: 0.4781 - accuracy: 0.7766\n",
            "Epoch 11: val_accuracy did not improve from 0.83846\n",
            "73/73 [==============================] - 12s 164ms/step - loss: 0.4781 - accuracy: 0.7766 - val_loss: 0.3973 - val_accuracy: 0.8231 - lr: 1.6000e-04\n",
            "Epoch 12/20\n",
            "73/73 [==============================] - ETA: 0s - loss: 0.4844 - accuracy: 0.7650\n",
            "Epoch 12: val_accuracy did not improve from 0.83846\n",
            "\n",
            "Epoch 12: ReduceLROnPlateau reducing learning rate to 6.40000042039901e-05.\n",
            "73/73 [==============================] - 12s 165ms/step - loss: 0.4844 - accuracy: 0.7650 - val_loss: 0.4117 - val_accuracy: 0.8269 - lr: 1.6000e-04\n",
            "Epoch 13/20\n",
            "73/73 [==============================] - ETA: 0s - loss: 0.4865 - accuracy: 0.7693\n",
            "Epoch 13: val_accuracy did not improve from 0.83846\n",
            "73/73 [==============================] - 12s 165ms/step - loss: 0.4865 - accuracy: 0.7693 - val_loss: 0.4012 - val_accuracy: 0.8192 - lr: 6.4000e-05\n",
            "Epoch 14/20\n",
            "73/73 [==============================] - ETA: 0s - loss: 0.4849 - accuracy: 0.7684\n",
            "Epoch 14: val_accuracy did not improve from 0.83846\n",
            "\n",
            "Epoch 14: ReduceLROnPlateau reducing learning rate to 2.560000284574926e-05.\n",
            "73/73 [==============================] - 12s 166ms/step - loss: 0.4849 - accuracy: 0.7684 - val_loss: 0.4004 - val_accuracy: 0.8192 - lr: 6.4000e-05\n",
            "Epoch 15/20\n",
            "73/73 [==============================] - ETA: 0s - loss: 0.4742 - accuracy: 0.7697\n",
            "Epoch 15: val_accuracy did not improve from 0.83846\n",
            "73/73 [==============================] - 12s 165ms/step - loss: 0.4742 - accuracy: 0.7697 - val_loss: 0.3977 - val_accuracy: 0.8154 - lr: 2.5600e-05\n",
            "Epoch 16/20\n",
            "73/73 [==============================] - ETA: 0s - loss: 0.4749 - accuracy: 0.7736\n",
            "Epoch 16: val_accuracy did not improve from 0.83846\n",
            "\n",
            "Epoch 16: ReduceLROnPlateau reducing learning rate to 1.0240000847261399e-05.\n",
            "73/73 [==============================] - 12s 165ms/step - loss: 0.4749 - accuracy: 0.7736 - val_loss: 0.3979 - val_accuracy: 0.8269 - lr: 2.5600e-05\n",
            "Epoch 17/20\n",
            "73/73 [==============================] - ETA: 0s - loss: 0.4699 - accuracy: 0.7710\n",
            "Epoch 17: val_accuracy did not improve from 0.83846\n",
            "73/73 [==============================] - 12s 167ms/step - loss: 0.4699 - accuracy: 0.7710 - val_loss: 0.3980 - val_accuracy: 0.8231 - lr: 1.0240e-05\n",
            "Epoch 18/20\n",
            "73/73 [==============================] - ETA: 0s - loss: 0.4860 - accuracy: 0.7633\n",
            "Epoch 18: val_accuracy did not improve from 0.83846\n",
            "\n",
            "Epoch 18: ReduceLROnPlateau reducing learning rate to 4.09600033890456e-06.\n",
            "73/73 [==============================] - 12s 166ms/step - loss: 0.4860 - accuracy: 0.7633 - val_loss: 0.3978 - val_accuracy: 0.8231 - lr: 1.0240e-05\n",
            "Epoch 19/20\n",
            "73/73 [==============================] - ETA: 0s - loss: 0.4572 - accuracy: 0.7830\n",
            "Epoch 19: val_accuracy did not improve from 0.83846\n",
            "73/73 [==============================] - 12s 167ms/step - loss: 0.4572 - accuracy: 0.7830 - val_loss: 0.3977 - val_accuracy: 0.8192 - lr: 4.0960e-06\n",
            "Epoch 20/20\n",
            "73/73 [==============================] - ETA: 0s - loss: 0.4579 - accuracy: 0.7792\n",
            "Epoch 20: val_accuracy did not improve from 0.83846\n",
            "\n",
            "Epoch 20: ReduceLROnPlateau reducing learning rate to 1.6384001355618238e-06.\n",
            "73/73 [==============================] - 12s 168ms/step - loss: 0.4579 - accuracy: 0.7792 - val_loss: 0.3979 - val_accuracy: 0.8192 - lr: 4.0960e-06\n"
          ]
        },
        {
          "output_type": "execute_result",
          "data": {
            "text/plain": [
              "<keras.callbacks.History at 0x7fd6d2ec89d0>"
            ]
          },
          "metadata": {},
          "execution_count": 12
        }
      ]
    },
    {
      "cell_type": "code",
      "source": [
        "for layer in vgg19.layers:\n",
        "    layer.trainable = False\n",
        "model_vgg19 = vgg19.output\n",
        "model_vgg19 = tf.keras.layers.GlobalAveragePooling2D()(model_vgg19)\n",
        "model_vgg19 = tf.keras.layers.Dropout(rate=0.5)(model_vgg19)\n",
        "model_vgg19 = tf.keras.layers.Dense(2,activation='softmax')(model_vgg19)\n",
        "model_vgg19 = tf.keras.models.Model(inputs=vgg19.input, outputs = model_vgg19)\n",
        "model_vgg19.compile(loss='categorical_crossentropy',optimizer = 'Adam', metrics= ['accuracy'])\n",
        "tensorboard = TensorBoard(log_dir = 'logs')\n",
        "checkpoint = ModelCheckpoint(\"vgg19.h5\",monitor=\"val_accuracy\",save_best_only=True,mode=\"auto\",verbose=1)\n",
        "reduce_lr = ReduceLROnPlateau(monitor = 'val_accuracy', factor = 0.4, patience = 2, min_delta = 0.001,\n",
        "                              mode='auto',verbose=1)\n",
        "model_vgg19.fit(X_train,y_train,validation_split=0.1, epochs =20, verbose=1, batch_size=32,\n",
        "                   callbacks=[tensorboard,checkpoint,reduce_lr])"
      ],
      "metadata": {
        "colab": {
          "base_uri": "https://localhost:8080/"
        },
        "id": "pSg9aUqVG28y",
        "outputId": "6894bd39-d414-4168-956c-a7f664846463"
      },
      "execution_count": 13,
      "outputs": [
        {
          "output_type": "stream",
          "name": "stdout",
          "text": [
            "Epoch 1/20\n",
            "73/73 [==============================] - ETA: 0s - loss: 2.4675 - accuracy: 0.5081\n",
            "Epoch 1: val_accuracy improved from -inf to 0.61154, saving model to vgg19.h5\n",
            "73/73 [==============================] - 15s 200ms/step - loss: 2.4675 - accuracy: 0.5081 - val_loss: 0.8933 - val_accuracy: 0.6115 - lr: 0.0010\n",
            "Epoch 2/20\n",
            "73/73 [==============================] - ETA: 0s - loss: 1.4981 - accuracy: 0.5733\n",
            "Epoch 2: val_accuracy improved from 0.61154 to 0.63462, saving model to vgg19.h5\n",
            "73/73 [==============================] - 14s 198ms/step - loss: 1.4981 - accuracy: 0.5733 - val_loss: 0.6492 - val_accuracy: 0.6346 - lr: 0.0010\n",
            "Epoch 3/20\n",
            "73/73 [==============================] - ETA: 0s - loss: 0.9450 - accuracy: 0.6372\n",
            "Epoch 3: val_accuracy improved from 0.63462 to 0.70000, saving model to vgg19.h5\n",
            "73/73 [==============================] - 16s 214ms/step - loss: 0.9450 - accuracy: 0.6372 - val_loss: 0.5498 - val_accuracy: 0.7000 - lr: 0.0010\n",
            "Epoch 4/20\n",
            "73/73 [==============================] - ETA: 0s - loss: 0.7835 - accuracy: 0.6432\n",
            "Epoch 4: val_accuracy improved from 0.70000 to 0.71154, saving model to vgg19.h5\n",
            "73/73 [==============================] - 14s 199ms/step - loss: 0.7835 - accuracy: 0.6432 - val_loss: 0.5179 - val_accuracy: 0.7115 - lr: 0.0010\n",
            "Epoch 5/20\n",
            "73/73 [==============================] - ETA: 0s - loss: 0.6740 - accuracy: 0.6938\n",
            "Epoch 5: val_accuracy improved from 0.71154 to 0.75769, saving model to vgg19.h5\n",
            "73/73 [==============================] - 15s 199ms/step - loss: 0.6740 - accuracy: 0.6938 - val_loss: 0.4812 - val_accuracy: 0.7577 - lr: 0.0010\n",
            "Epoch 6/20\n",
            "73/73 [==============================] - ETA: 0s - loss: 0.6083 - accuracy: 0.7071\n",
            "Epoch 6: val_accuracy did not improve from 0.75769\n",
            "73/73 [==============================] - 15s 213ms/step - loss: 0.6083 - accuracy: 0.7071 - val_loss: 0.5644 - val_accuracy: 0.6769 - lr: 0.0010\n",
            "Epoch 7/20\n",
            "73/73 [==============================] - ETA: 0s - loss: 0.5957 - accuracy: 0.7075\n",
            "Epoch 7: val_accuracy improved from 0.75769 to 0.77308, saving model to vgg19.h5\n",
            "73/73 [==============================] - 15s 200ms/step - loss: 0.5957 - accuracy: 0.7075 - val_loss: 0.4519 - val_accuracy: 0.7731 - lr: 0.0010\n",
            "Epoch 8/20\n",
            "73/73 [==============================] - ETA: 0s - loss: 0.5464 - accuracy: 0.7354\n",
            "Epoch 8: val_accuracy did not improve from 0.77308\n",
            "73/73 [==============================] - 16s 213ms/step - loss: 0.5464 - accuracy: 0.7354 - val_loss: 0.4982 - val_accuracy: 0.7615 - lr: 0.0010\n",
            "Epoch 9/20\n",
            "73/73 [==============================] - ETA: 0s - loss: 0.5344 - accuracy: 0.7213\n",
            "Epoch 9: val_accuracy improved from 0.77308 to 0.81154, saving model to vgg19.h5\n",
            "73/73 [==============================] - 16s 216ms/step - loss: 0.5344 - accuracy: 0.7213 - val_loss: 0.4398 - val_accuracy: 0.8115 - lr: 0.0010\n",
            "Epoch 10/20\n",
            "73/73 [==============================] - ETA: 0s - loss: 0.5501 - accuracy: 0.7337\n",
            "Epoch 10: val_accuracy improved from 0.81154 to 0.81538, saving model to vgg19.h5\n",
            "73/73 [==============================] - 16s 216ms/step - loss: 0.5501 - accuracy: 0.7337 - val_loss: 0.4494 - val_accuracy: 0.8154 - lr: 0.0010\n",
            "Epoch 11/20\n",
            "73/73 [==============================] - ETA: 0s - loss: 0.5620 - accuracy: 0.7311\n",
            "Epoch 11: val_accuracy did not improve from 0.81538\n",
            "73/73 [==============================] - 14s 198ms/step - loss: 0.5620 - accuracy: 0.7311 - val_loss: 0.4554 - val_accuracy: 0.7731 - lr: 0.0010\n",
            "Epoch 12/20\n",
            "73/73 [==============================] - ETA: 0s - loss: 0.5298 - accuracy: 0.7393\n",
            "Epoch 12: val_accuracy did not improve from 0.81538\n",
            "\n",
            "Epoch 12: ReduceLROnPlateau reducing learning rate to 0.0004000000189989805.\n",
            "73/73 [==============================] - 16s 214ms/step - loss: 0.5298 - accuracy: 0.7393 - val_loss: 0.4791 - val_accuracy: 0.7769 - lr: 0.0010\n",
            "Epoch 13/20\n",
            "73/73 [==============================] - ETA: 0s - loss: 0.5024 - accuracy: 0.7642\n",
            "Epoch 13: val_accuracy improved from 0.81538 to 0.83077, saving model to vgg19.h5\n",
            "73/73 [==============================] - 15s 202ms/step - loss: 0.5024 - accuracy: 0.7642 - val_loss: 0.4216 - val_accuracy: 0.8308 - lr: 4.0000e-04\n",
            "Epoch 14/20\n",
            "73/73 [==============================] - ETA: 0s - loss: 0.4958 - accuracy: 0.7543\n",
            "Epoch 14: val_accuracy did not improve from 0.83077\n",
            "73/73 [==============================] - 16s 216ms/step - loss: 0.4958 - accuracy: 0.7543 - val_loss: 0.4209 - val_accuracy: 0.8308 - lr: 4.0000e-04\n",
            "Epoch 15/20\n",
            "73/73 [==============================] - ETA: 0s - loss: 0.5084 - accuracy: 0.7500\n",
            "Epoch 15: val_accuracy improved from 0.83077 to 0.83846, saving model to vgg19.h5\n",
            "73/73 [==============================] - 16s 221ms/step - loss: 0.5084 - accuracy: 0.7500 - val_loss: 0.4300 - val_accuracy: 0.8385 - lr: 4.0000e-04\n",
            "Epoch 16/20\n",
            "73/73 [==============================] - ETA: 0s - loss: 0.4915 - accuracy: 0.7599\n",
            "Epoch 16: val_accuracy did not improve from 0.83846\n",
            "73/73 [==============================] - 15s 204ms/step - loss: 0.4915 - accuracy: 0.7599 - val_loss: 0.4322 - val_accuracy: 0.8308 - lr: 4.0000e-04\n",
            "Epoch 17/20\n",
            "73/73 [==============================] - ETA: 0s - loss: 0.5032 - accuracy: 0.7496\n",
            "Epoch 17: val_accuracy did not improve from 0.83846\n",
            "\n",
            "Epoch 17: ReduceLROnPlateau reducing learning rate to 0.00016000000759959222.\n",
            "73/73 [==============================] - 15s 204ms/step - loss: 0.5032 - accuracy: 0.7496 - val_loss: 0.4228 - val_accuracy: 0.8308 - lr: 4.0000e-04\n",
            "Epoch 18/20\n",
            "73/73 [==============================] - ETA: 0s - loss: 0.4937 - accuracy: 0.7629\n",
            "Epoch 18: val_accuracy did not improve from 0.83846\n",
            "73/73 [==============================] - 16s 218ms/step - loss: 0.4937 - accuracy: 0.7629 - val_loss: 0.4223 - val_accuracy: 0.8231 - lr: 1.6000e-04\n",
            "Epoch 19/20\n",
            "73/73 [==============================] - ETA: 0s - loss: 0.5008 - accuracy: 0.7667\n",
            "Epoch 19: val_accuracy did not improve from 0.83846\n",
            "\n",
            "Epoch 19: ReduceLROnPlateau reducing learning rate to 6.40000042039901e-05.\n",
            "73/73 [==============================] - 16s 218ms/step - loss: 0.5008 - accuracy: 0.7667 - val_loss: 0.4197 - val_accuracy: 0.8308 - lr: 1.6000e-04\n",
            "Epoch 20/20\n",
            "73/73 [==============================] - ETA: 0s - loss: 0.4887 - accuracy: 0.7611\n",
            "Epoch 20: val_accuracy did not improve from 0.83846\n",
            "73/73 [==============================] - 16s 218ms/step - loss: 0.4887 - accuracy: 0.7611 - val_loss: 0.4217 - val_accuracy: 0.8385 - lr: 6.4000e-05\n"
          ]
        },
        {
          "output_type": "execute_result",
          "data": {
            "text/plain": [
              "<keras.callbacks.History at 0x7fd6d2e0dd10>"
            ]
          },
          "metadata": {},
          "execution_count": 13
        }
      ]
    },
    {
      "cell_type": "code",
      "source": [
        "for layer in efficientnet.layers:\n",
        "    layer.trainable = False\n",
        "model_efficientnet = efficientnet.output\n",
        "model_efficientnet = tf.keras.layers.GlobalAveragePooling2D()(model_efficientnet)\n",
        "model_efficientnet = tf.keras.layers.Dropout(rate=0.5)(model_efficientnet)\n",
        "model_efficientnet = tf.keras.layers.Dense(2,activation='softmax')(model_efficientnet)\n",
        "model_efficientnet = tf.keras.models.Model(inputs=efficientnet.input, outputs = model_efficientnet)\n",
        "model_efficientnet.compile(loss='categorical_crossentropy',optimizer = 'Adam', metrics= ['accuracy'])\n",
        "tensorboard = TensorBoard(log_dir = 'logs')\n",
        "checkpoint = ModelCheckpoint(\"efficientnet.h5\",monitor=\"val_accuracy\",save_best_only=True,mode=\"auto\",verbose=1)\n",
        "reduce_lr = ReduceLROnPlateau(monitor = 'val_accuracy', factor = 0.4, patience = 2, min_delta = 0.001,\n",
        "                              mode='auto',verbose=1)\n",
        "model_efficientnet.fit(X_train,y_train,validation_split=0.1, epochs =20, verbose=1, batch_size=32,\n",
        "                   callbacks=[tensorboard,checkpoint,reduce_lr])"
      ],
      "metadata": {
        "colab": {
          "base_uri": "https://localhost:8080/"
        },
        "id": "psLJGI27q0uH",
        "outputId": "5c59a7b3-8bd6-4a7b-f3dc-4803c3026aa3"
      },
      "execution_count": 14,
      "outputs": [
        {
          "output_type": "stream",
          "name": "stdout",
          "text": [
            "Epoch 1/20\n",
            "73/73 [==============================] - ETA: 0s - loss: 0.7223 - accuracy: 0.5617\n",
            "Epoch 1: val_accuracy improved from -inf to 0.71923, saving model to efficientnet.h5\n",
            "73/73 [==============================] - 14s 109ms/step - loss: 0.7223 - accuracy: 0.5617 - val_loss: 0.5913 - val_accuracy: 0.7192 - lr: 0.0010\n",
            "Epoch 2/20\n",
            "73/73 [==============================] - ETA: 0s - loss: 0.5891 - accuracy: 0.6913\n",
            "Epoch 2: val_accuracy did not improve from 0.71923\n",
            "73/73 [==============================] - 5s 69ms/step - loss: 0.5891 - accuracy: 0.6913 - val_loss: 0.5593 - val_accuracy: 0.6731 - lr: 0.0010\n",
            "Epoch 3/20\n",
            "73/73 [==============================] - ETA: 0s - loss: 0.5486 - accuracy: 0.7230\n",
            "Epoch 3: val_accuracy improved from 0.71923 to 0.74231, saving model to efficientnet.h5\n",
            "73/73 [==============================] - 6s 76ms/step - loss: 0.5486 - accuracy: 0.7230 - val_loss: 0.5108 - val_accuracy: 0.7423 - lr: 0.0010\n",
            "Epoch 4/20\n",
            "73/73 [==============================] - ETA: 0s - loss: 0.5230 - accuracy: 0.7350\n",
            "Epoch 4: val_accuracy improved from 0.74231 to 0.78846, saving model to efficientnet.h5\n",
            "73/73 [==============================] - 6s 76ms/step - loss: 0.5230 - accuracy: 0.7350 - val_loss: 0.4734 - val_accuracy: 0.7885 - lr: 0.0010\n",
            "Epoch 5/20\n",
            "73/73 [==============================] - ETA: 0s - loss: 0.5135 - accuracy: 0.7363\n",
            "Epoch 5: val_accuracy improved from 0.78846 to 0.82308, saving model to efficientnet.h5\n",
            "73/73 [==============================] - 6s 77ms/step - loss: 0.5135 - accuracy: 0.7363 - val_loss: 0.4584 - val_accuracy: 0.8231 - lr: 0.0010\n",
            "Epoch 6/20\n",
            "73/73 [==============================] - ETA: 0s - loss: 0.4974 - accuracy: 0.7517\n",
            "Epoch 6: val_accuracy did not improve from 0.82308\n",
            "73/73 [==============================] - 5s 70ms/step - loss: 0.4974 - accuracy: 0.7517 - val_loss: 0.4580 - val_accuracy: 0.7962 - lr: 0.0010\n",
            "Epoch 7/20\n",
            "73/73 [==============================] - ETA: 0s - loss: 0.4799 - accuracy: 0.7650\n",
            "Epoch 7: val_accuracy did not improve from 0.82308\n",
            "\n",
            "Epoch 7: ReduceLROnPlateau reducing learning rate to 0.0004000000189989805.\n",
            "73/73 [==============================] - 5s 72ms/step - loss: 0.4799 - accuracy: 0.7650 - val_loss: 0.4289 - val_accuracy: 0.8154 - lr: 0.0010\n",
            "Epoch 8/20\n",
            "73/73 [==============================] - ETA: 0s - loss: 0.4600 - accuracy: 0.7749\n",
            "Epoch 8: val_accuracy improved from 0.82308 to 0.83077, saving model to efficientnet.h5\n",
            "73/73 [==============================] - 6s 77ms/step - loss: 0.4600 - accuracy: 0.7749 - val_loss: 0.4248 - val_accuracy: 0.8308 - lr: 4.0000e-04\n",
            "Epoch 9/20\n",
            "73/73 [==============================] - ETA: 0s - loss: 0.4526 - accuracy: 0.7933\n",
            "Epoch 9: val_accuracy did not improve from 0.83077\n",
            "73/73 [==============================] - 5s 69ms/step - loss: 0.4526 - accuracy: 0.7933 - val_loss: 0.4249 - val_accuracy: 0.8231 - lr: 4.0000e-04\n",
            "Epoch 10/20\n",
            "73/73 [==============================] - ETA: 0s - loss: 0.4455 - accuracy: 0.7882\n",
            "Epoch 10: val_accuracy did not improve from 0.83077\n",
            "\n",
            "Epoch 10: ReduceLROnPlateau reducing learning rate to 0.00016000000759959222.\n",
            "73/73 [==============================] - 5s 69ms/step - loss: 0.4455 - accuracy: 0.7882 - val_loss: 0.4189 - val_accuracy: 0.8269 - lr: 4.0000e-04\n",
            "Epoch 11/20\n",
            "73/73 [==============================] - ETA: 0s - loss: 0.4610 - accuracy: 0.7882\n",
            "Epoch 11: val_accuracy did not improve from 0.83077\n",
            "73/73 [==============================] - 5s 69ms/step - loss: 0.4610 - accuracy: 0.7882 - val_loss: 0.4160 - val_accuracy: 0.8308 - lr: 1.6000e-04\n",
            "Epoch 12/20\n",
            "73/73 [==============================] - ETA: 0s - loss: 0.4503 - accuracy: 0.7946\n",
            "Epoch 12: val_accuracy did not improve from 0.83077\n",
            "\n",
            "Epoch 12: ReduceLROnPlateau reducing learning rate to 6.40000042039901e-05.\n",
            "73/73 [==============================] - 5s 69ms/step - loss: 0.4503 - accuracy: 0.7946 - val_loss: 0.4181 - val_accuracy: 0.8192 - lr: 1.6000e-04\n",
            "Epoch 13/20\n",
            "73/73 [==============================] - ETA: 0s - loss: 0.4503 - accuracy: 0.7834\n",
            "Epoch 13: val_accuracy did not improve from 0.83077\n",
            "73/73 [==============================] - 5s 69ms/step - loss: 0.4503 - accuracy: 0.7834 - val_loss: 0.4190 - val_accuracy: 0.8115 - lr: 6.4000e-05\n",
            "Epoch 14/20\n",
            "73/73 [==============================] - ETA: 0s - loss: 0.4526 - accuracy: 0.7907\n",
            "Epoch 14: val_accuracy did not improve from 0.83077\n",
            "\n",
            "Epoch 14: ReduceLROnPlateau reducing learning rate to 2.560000284574926e-05.\n",
            "73/73 [==============================] - 5s 71ms/step - loss: 0.4526 - accuracy: 0.7907 - val_loss: 0.4175 - val_accuracy: 0.8231 - lr: 6.4000e-05\n",
            "Epoch 15/20\n",
            "73/73 [==============================] - ETA: 0s - loss: 0.4443 - accuracy: 0.7955\n",
            "Epoch 15: val_accuracy did not improve from 0.83077\n",
            "73/73 [==============================] - 5s 71ms/step - loss: 0.4443 - accuracy: 0.7955 - val_loss: 0.4166 - val_accuracy: 0.8192 - lr: 2.5600e-05\n",
            "Epoch 16/20\n",
            "73/73 [==============================] - ETA: 0s - loss: 0.4468 - accuracy: 0.7937\n",
            "Epoch 16: val_accuracy did not improve from 0.83077\n",
            "\n",
            "Epoch 16: ReduceLROnPlateau reducing learning rate to 1.0240000847261399e-05.\n",
            "73/73 [==============================] - 5s 69ms/step - loss: 0.4468 - accuracy: 0.7937 - val_loss: 0.4153 - val_accuracy: 0.8154 - lr: 2.5600e-05\n",
            "Epoch 17/20\n",
            "73/73 [==============================] - ETA: 0s - loss: 0.4446 - accuracy: 0.7946\n",
            "Epoch 17: val_accuracy did not improve from 0.83077\n",
            "73/73 [==============================] - 5s 71ms/step - loss: 0.4446 - accuracy: 0.7946 - val_loss: 0.4152 - val_accuracy: 0.8154 - lr: 1.0240e-05\n",
            "Epoch 18/20\n",
            "73/73 [==============================] - ETA: 0s - loss: 0.4292 - accuracy: 0.8032\n",
            "Epoch 18: val_accuracy did not improve from 0.83077\n",
            "\n",
            "Epoch 18: ReduceLROnPlateau reducing learning rate to 4.09600033890456e-06.\n",
            "73/73 [==============================] - 5s 71ms/step - loss: 0.4292 - accuracy: 0.8032 - val_loss: 0.4148 - val_accuracy: 0.8154 - lr: 1.0240e-05\n",
            "Epoch 19/20\n",
            "73/73 [==============================] - ETA: 0s - loss: 0.4505 - accuracy: 0.7916\n",
            "Epoch 19: val_accuracy did not improve from 0.83077\n",
            "73/73 [==============================] - 5s 69ms/step - loss: 0.4505 - accuracy: 0.7916 - val_loss: 0.4148 - val_accuracy: 0.8154 - lr: 4.0960e-06\n",
            "Epoch 20/20\n",
            "73/73 [==============================] - ETA: 0s - loss: 0.4445 - accuracy: 0.7899\n",
            "Epoch 20: val_accuracy did not improve from 0.83077\n",
            "\n",
            "Epoch 20: ReduceLROnPlateau reducing learning rate to 1.6384001355618238e-06.\n",
            "73/73 [==============================] - 5s 69ms/step - loss: 0.4445 - accuracy: 0.7899 - val_loss: 0.4149 - val_accuracy: 0.8154 - lr: 4.0960e-06\n"
          ]
        },
        {
          "output_type": "execute_result",
          "data": {
            "text/plain": [
              "<keras.callbacks.History at 0x7fd6d2b68950>"
            ]
          },
          "metadata": {},
          "execution_count": 14
        }
      ]
    },
    {
      "cell_type": "code",
      "source": [
        "for layer in inceptionv3.layers:\n",
        "    layer.trainable = False\n",
        "model_inceptionv3 = inceptionv3.output\n",
        "model_inceptionv3 = tf.keras.layers.GlobalAveragePooling2D()(model_inceptionv3)\n",
        "model_inceptionv3 = tf.keras.layers.Dropout(rate=0.5)(model_inceptionv3)\n",
        "model_inceptionv3 = tf.keras.layers.Dense(2,activation='softmax')(model_inceptionv3)\n",
        "model_inceptionv3 = tf.keras.models.Model(inputs=inceptionv3.input, outputs = model_inceptionv3)\n",
        "model_inceptionv3.compile(loss='categorical_crossentropy',optimizer = 'Adam', metrics= ['accuracy'])\n",
        "tensorboard = TensorBoard(log_dir = 'logs')\n",
        "checkpoint = ModelCheckpoint(\"inceptionv3.h5\",monitor=\"val_accuracy\",save_best_only=True,mode=\"auto\",verbose=1)\n",
        "reduce_lr = ReduceLROnPlateau(monitor = 'val_accuracy', factor = 0.4, patience = 2, min_delta = 0.001,\n",
        "                              mode='auto',verbose=1)\n",
        "model_inceptionv3.fit(X_train,y_train,validation_split=0.1, epochs =20, verbose=1, batch_size=32,\n",
        "                   callbacks=[tensorboard,checkpoint,reduce_lr])"
      ],
      "metadata": {
        "colab": {
          "base_uri": "https://localhost:8080/"
        },
        "id": "o408EPZrs5gm",
        "outputId": "36d2d132-f554-41ca-e7be-d75980afb4e5"
      },
      "execution_count": 15,
      "outputs": [
        {
          "output_type": "stream",
          "name": "stdout",
          "text": [
            "Epoch 1/20\n",
            "73/73 [==============================] - ETA: 0s - loss: 10.1004 - accuracy: 0.5180\n",
            "Epoch 1: val_accuracy improved from -inf to 0.63077, saving model to inceptionv3.h5\n",
            "73/73 [==============================] - 14s 127ms/step - loss: 10.1004 - accuracy: 0.5180 - val_loss: 2.0707 - val_accuracy: 0.6308 - lr: 0.0010\n",
            "Epoch 2/20\n",
            "73/73 [==============================] - ETA: 0s - loss: 4.6128 - accuracy: 0.6141\n",
            "Epoch 2: val_accuracy improved from 0.63077 to 0.75385, saving model to inceptionv3.h5\n",
            "73/73 [==============================] - 6s 88ms/step - loss: 4.6128 - accuracy: 0.6141 - val_loss: 1.5935 - val_accuracy: 0.7538 - lr: 0.0010\n",
            "Epoch 3/20\n",
            "73/73 [==============================] - ETA: 0s - loss: 3.2126 - accuracy: 0.6621\n",
            "Epoch 3: val_accuracy improved from 0.75385 to 0.77692, saving model to inceptionv3.h5\n",
            "73/73 [==============================] - 6s 88ms/step - loss: 3.2126 - accuracy: 0.6621 - val_loss: 1.1248 - val_accuracy: 0.7769 - lr: 0.0010\n",
            "Epoch 4/20\n",
            "73/73 [==============================] - ETA: 0s - loss: 2.1227 - accuracy: 0.7028\n",
            "Epoch 4: val_accuracy improved from 0.77692 to 0.79231, saving model to inceptionv3.h5\n",
            "73/73 [==============================] - 6s 88ms/step - loss: 2.1227 - accuracy: 0.7028 - val_loss: 0.9429 - val_accuracy: 0.7923 - lr: 0.0010\n",
            "Epoch 5/20\n",
            "73/73 [==============================] - ETA: 0s - loss: 2.1342 - accuracy: 0.6930\n",
            "Epoch 5: val_accuracy did not improve from 0.79231\n",
            "73/73 [==============================] - 6s 80ms/step - loss: 2.1342 - accuracy: 0.6930 - val_loss: 2.6305 - val_accuracy: 0.6731 - lr: 0.0010\n",
            "Epoch 6/20\n",
            "73/73 [==============================] - ETA: 0s - loss: 2.1651 - accuracy: 0.6925\n",
            "Epoch 6: val_accuracy improved from 0.79231 to 0.81154, saving model to inceptionv3.h5\n",
            "73/73 [==============================] - 6s 88ms/step - loss: 2.1651 - accuracy: 0.6925 - val_loss: 0.8691 - val_accuracy: 0.8115 - lr: 0.0010\n",
            "Epoch 7/20\n",
            "73/73 [==============================] - ETA: 0s - loss: 2.0398 - accuracy: 0.7093\n",
            "Epoch 7: val_accuracy improved from 0.81154 to 0.81538, saving model to inceptionv3.h5\n",
            "73/73 [==============================] - 6s 89ms/step - loss: 2.0398 - accuracy: 0.7093 - val_loss: 0.7185 - val_accuracy: 0.8154 - lr: 0.0010\n",
            "Epoch 8/20\n",
            "73/73 [==============================] - ETA: 0s - loss: 1.6486 - accuracy: 0.7281\n",
            "Epoch 8: val_accuracy improved from 0.81538 to 0.83077, saving model to inceptionv3.h5\n",
            "73/73 [==============================] - 7s 89ms/step - loss: 1.6486 - accuracy: 0.7281 - val_loss: 0.5444 - val_accuracy: 0.8308 - lr: 0.0010\n",
            "Epoch 9/20\n",
            "73/73 [==============================] - ETA: 0s - loss: 1.5750 - accuracy: 0.7196\n",
            "Epoch 9: val_accuracy did not improve from 0.83077\n",
            "73/73 [==============================] - 6s 80ms/step - loss: 1.5750 - accuracy: 0.7196 - val_loss: 0.7188 - val_accuracy: 0.8000 - lr: 0.0010\n",
            "Epoch 10/20\n",
            "73/73 [==============================] - ETA: 0s - loss: 1.4423 - accuracy: 0.7226\n",
            "Epoch 10: val_accuracy did not improve from 0.83077\n",
            "\n",
            "Epoch 10: ReduceLROnPlateau reducing learning rate to 0.0004000000189989805.\n",
            "73/73 [==============================] - 6s 80ms/step - loss: 1.4423 - accuracy: 0.7226 - val_loss: 1.3084 - val_accuracy: 0.6923 - lr: 0.0010\n",
            "Epoch 11/20\n",
            "73/73 [==============================] - ETA: 0s - loss: 1.1886 - accuracy: 0.7479\n",
            "Epoch 11: val_accuracy did not improve from 0.83077\n",
            "73/73 [==============================] - 6s 80ms/step - loss: 1.1886 - accuracy: 0.7479 - val_loss: 0.7000 - val_accuracy: 0.7885 - lr: 4.0000e-04\n",
            "Epoch 12/20\n",
            "73/73 [==============================] - ETA: 0s - loss: 1.1234 - accuracy: 0.7547\n",
            "Epoch 12: val_accuracy improved from 0.83077 to 0.85385, saving model to inceptionv3.h5\n",
            "73/73 [==============================] - 6s 89ms/step - loss: 1.1234 - accuracy: 0.7547 - val_loss: 0.4603 - val_accuracy: 0.8538 - lr: 4.0000e-04\n",
            "Epoch 13/20\n",
            "73/73 [==============================] - ETA: 0s - loss: 1.0908 - accuracy: 0.7513\n",
            "Epoch 13: val_accuracy did not improve from 0.85385\n",
            "73/73 [==============================] - 6s 81ms/step - loss: 1.0908 - accuracy: 0.7513 - val_loss: 0.3671 - val_accuracy: 0.8538 - lr: 4.0000e-04\n",
            "Epoch 14/20\n",
            "73/73 [==============================] - ETA: 0s - loss: 1.0271 - accuracy: 0.7581\n",
            "Epoch 14: val_accuracy did not improve from 0.85385\n",
            "\n",
            "Epoch 14: ReduceLROnPlateau reducing learning rate to 0.00016000000759959222.\n",
            "73/73 [==============================] - 6s 80ms/step - loss: 1.0271 - accuracy: 0.7581 - val_loss: 0.6254 - val_accuracy: 0.8308 - lr: 4.0000e-04\n",
            "Epoch 15/20\n",
            "73/73 [==============================] - ETA: 0s - loss: 0.8214 - accuracy: 0.7834\n",
            "Epoch 15: val_accuracy did not improve from 0.85385\n",
            "73/73 [==============================] - 6s 80ms/step - loss: 0.8214 - accuracy: 0.7834 - val_loss: 0.7337 - val_accuracy: 0.8115 - lr: 1.6000e-04\n",
            "Epoch 16/20\n",
            "73/73 [==============================] - ETA: 0s - loss: 0.8881 - accuracy: 0.7684\n",
            "Epoch 16: val_accuracy did not improve from 0.85385\n",
            "\n",
            "Epoch 16: ReduceLROnPlateau reducing learning rate to 6.40000042039901e-05.\n",
            "73/73 [==============================] - 6s 80ms/step - loss: 0.8881 - accuracy: 0.7684 - val_loss: 0.3866 - val_accuracy: 0.8385 - lr: 1.6000e-04\n",
            "Epoch 17/20\n",
            "73/73 [==============================] - ETA: 0s - loss: 0.8372 - accuracy: 0.7796\n",
            "Epoch 17: val_accuracy improved from 0.85385 to 0.86923, saving model to inceptionv3.h5\n",
            "73/73 [==============================] - 6s 88ms/step - loss: 0.8372 - accuracy: 0.7796 - val_loss: 0.3420 - val_accuracy: 0.8692 - lr: 6.4000e-05\n",
            "Epoch 18/20\n",
            "73/73 [==============================] - ETA: 0s - loss: 0.7896 - accuracy: 0.7903\n",
            "Epoch 18: val_accuracy did not improve from 0.86923\n",
            "73/73 [==============================] - 6s 80ms/step - loss: 0.7896 - accuracy: 0.7903 - val_loss: 0.3678 - val_accuracy: 0.8538 - lr: 6.4000e-05\n",
            "Epoch 19/20\n",
            "73/73 [==============================] - ETA: 0s - loss: 0.7672 - accuracy: 0.7907\n",
            "Epoch 19: val_accuracy did not improve from 0.86923\n",
            "\n",
            "Epoch 19: ReduceLROnPlateau reducing learning rate to 2.560000284574926e-05.\n",
            "73/73 [==============================] - 6s 81ms/step - loss: 0.7672 - accuracy: 0.7907 - val_loss: 0.3184 - val_accuracy: 0.8692 - lr: 6.4000e-05\n",
            "Epoch 20/20\n",
            "73/73 [==============================] - ETA: 0s - loss: 0.7944 - accuracy: 0.7766\n",
            "Epoch 20: val_accuracy improved from 0.86923 to 0.87308, saving model to inceptionv3.h5\n",
            "73/73 [==============================] - 6s 89ms/step - loss: 0.7944 - accuracy: 0.7766 - val_loss: 0.3203 - val_accuracy: 0.8731 - lr: 2.5600e-05\n"
          ]
        },
        {
          "output_type": "execute_result",
          "data": {
            "text/plain": [
              "<keras.callbacks.History at 0x7fd68e49f8d0>"
            ]
          },
          "metadata": {},
          "execution_count": 15
        }
      ]
    },
    {
      "cell_type": "code",
      "source": [
        "for layer in resnet50.layers:\n",
        "    layer.trainable = False\n",
        "model_resnet50 = resnet50.output\n",
        "model_resnet50 = tf.keras.layers.GlobalAveragePooling2D()(model_resnet50)\n",
        "model_resnet50 = tf.keras.layers.Dropout(rate=0.5)(model_resnet50)\n",
        "model_resnet50 = tf.keras.layers.Dense(2,activation='softmax')(model_resnet50)\n",
        "model_resnet50 = tf.keras.models.Model(inputs=resnet50.input, outputs = model_resnet50)\n",
        "model_resnet50.compile(loss='categorical_crossentropy',optimizer = 'Adam', metrics= ['accuracy'])\n",
        "tensorboard = TensorBoard(log_dir = 'logs')\n",
        "checkpoint = ModelCheckpoint(\"resnet50.h5\",monitor=\"val_accuracy\",save_best_only=True,mode=\"auto\",verbose=1)\n",
        "reduce_lr = ReduceLROnPlateau(monitor = 'val_accuracy', factor = 0.4, patience = 2, min_delta = 0.001,\n",
        "                              mode='auto',verbose=1)\n",
        "model_resnet50.fit(X_train,y_train,validation_split=0.1, epochs =20, verbose=1, batch_size=32,\n",
        "                   callbacks=[tensorboard,checkpoint,reduce_lr])"
      ],
      "metadata": {
        "colab": {
          "base_uri": "https://localhost:8080/"
        },
        "id": "SeMOuAdkqN55",
        "outputId": "90038d10-fb9b-4fe1-a35e-7d8fe7142204"
      },
      "execution_count": 16,
      "outputs": [
        {
          "output_type": "stream",
          "name": "stdout",
          "text": [
            "Epoch 1/20\n",
            "73/73 [==============================] - ETA: 0s - loss: 0.8851 - accuracy: 0.5828\n",
            "Epoch 1: val_accuracy improved from -inf to 0.67308, saving model to resnet50.h5\n",
            "73/73 [==============================] - 14s 137ms/step - loss: 0.8851 - accuracy: 0.5828 - val_loss: 0.5593 - val_accuracy: 0.6731 - lr: 0.0010\n",
            "Epoch 2/20\n",
            "73/73 [==============================] - ETA: 0s - loss: 0.6249 - accuracy: 0.6801\n",
            "Epoch 2: val_accuracy improved from 0.67308 to 0.80769, saving model to resnet50.h5\n",
            "73/73 [==============================] - 8s 109ms/step - loss: 0.6249 - accuracy: 0.6801 - val_loss: 0.4318 - val_accuracy: 0.8077 - lr: 0.0010\n",
            "Epoch 3/20\n",
            "73/73 [==============================] - ETA: 0s - loss: 0.5410 - accuracy: 0.7324\n",
            "Epoch 3: val_accuracy improved from 0.80769 to 0.84231, saving model to resnet50.h5\n",
            "73/73 [==============================] - 8s 110ms/step - loss: 0.5410 - accuracy: 0.7324 - val_loss: 0.3923 - val_accuracy: 0.8423 - lr: 0.0010\n",
            "Epoch 4/20\n",
            "73/73 [==============================] - ETA: 0s - loss: 0.4779 - accuracy: 0.7714\n",
            "Epoch 4: val_accuracy improved from 0.84231 to 0.86154, saving model to resnet50.h5\n",
            "73/73 [==============================] - 9s 117ms/step - loss: 0.4779 - accuracy: 0.7714 - val_loss: 0.3744 - val_accuracy: 0.8615 - lr: 0.0010\n",
            "Epoch 5/20\n",
            "73/73 [==============================] - ETA: 0s - loss: 0.4601 - accuracy: 0.7783\n",
            "Epoch 5: val_accuracy improved from 0.86154 to 0.87692, saving model to resnet50.h5\n",
            "73/73 [==============================] - 8s 111ms/step - loss: 0.4601 - accuracy: 0.7783 - val_loss: 0.3414 - val_accuracy: 0.8769 - lr: 0.0010\n",
            "Epoch 6/20\n",
            "73/73 [==============================] - ETA: 0s - loss: 0.4367 - accuracy: 0.7993\n",
            "Epoch 6: val_accuracy improved from 0.87692 to 0.88846, saving model to resnet50.h5\n",
            "73/73 [==============================] - 9s 118ms/step - loss: 0.4367 - accuracy: 0.7993 - val_loss: 0.3246 - val_accuracy: 0.8885 - lr: 0.0010\n",
            "Epoch 7/20\n",
            "73/73 [==============================] - ETA: 0s - loss: 0.4036 - accuracy: 0.8130\n",
            "Epoch 7: val_accuracy improved from 0.88846 to 0.89615, saving model to resnet50.h5\n",
            "73/73 [==============================] - 9s 118ms/step - loss: 0.4036 - accuracy: 0.8130 - val_loss: 0.3202 - val_accuracy: 0.8962 - lr: 0.0010\n",
            "Epoch 8/20\n",
            "73/73 [==============================] - ETA: 0s - loss: 0.4146 - accuracy: 0.8139\n",
            "Epoch 8: val_accuracy did not improve from 0.89615\n",
            "73/73 [==============================] - 8s 103ms/step - loss: 0.4146 - accuracy: 0.8139 - val_loss: 0.3485 - val_accuracy: 0.8500 - lr: 0.0010\n",
            "Epoch 9/20\n",
            "73/73 [==============================] - ETA: 0s - loss: 0.3903 - accuracy: 0.8199\n",
            "Epoch 9: val_accuracy improved from 0.89615 to 0.90000, saving model to resnet50.h5\n",
            "73/73 [==============================] - 8s 110ms/step - loss: 0.3903 - accuracy: 0.8199 - val_loss: 0.3061 - val_accuracy: 0.9000 - lr: 0.0010\n",
            "Epoch 10/20\n",
            "73/73 [==============================] - ETA: 0s - loss: 0.3769 - accuracy: 0.8246\n",
            "Epoch 10: val_accuracy did not improve from 0.90000\n",
            "73/73 [==============================] - 8s 111ms/step - loss: 0.3769 - accuracy: 0.8246 - val_loss: 0.3261 - val_accuracy: 0.8962 - lr: 0.0010\n",
            "Epoch 11/20\n",
            "73/73 [==============================] - ETA: 0s - loss: 0.3779 - accuracy: 0.8195\n",
            "Epoch 11: val_accuracy improved from 0.90000 to 0.90769, saving model to resnet50.h5\n",
            "73/73 [==============================] - 8s 110ms/step - loss: 0.3779 - accuracy: 0.8195 - val_loss: 0.2878 - val_accuracy: 0.9077 - lr: 0.0010\n",
            "Epoch 12/20\n",
            "73/73 [==============================] - ETA: 0s - loss: 0.3785 - accuracy: 0.8319\n",
            "Epoch 12: val_accuracy did not improve from 0.90769\n",
            "73/73 [==============================] - 8s 104ms/step - loss: 0.3785 - accuracy: 0.8319 - val_loss: 0.2944 - val_accuracy: 0.8808 - lr: 0.0010\n",
            "Epoch 13/20\n",
            "73/73 [==============================] - ETA: 0s - loss: 0.3529 - accuracy: 0.8473\n",
            "Epoch 13: val_accuracy did not improve from 0.90769\n",
            "\n",
            "Epoch 13: ReduceLROnPlateau reducing learning rate to 0.0004000000189989805.\n",
            "73/73 [==============================] - 8s 111ms/step - loss: 0.3529 - accuracy: 0.8473 - val_loss: 0.2839 - val_accuracy: 0.9000 - lr: 0.0010\n",
            "Epoch 14/20\n",
            "73/73 [==============================] - ETA: 0s - loss: 0.3464 - accuracy: 0.8572\n",
            "Epoch 14: val_accuracy did not improve from 0.90769\n",
            "73/73 [==============================] - 8s 103ms/step - loss: 0.3464 - accuracy: 0.8572 - val_loss: 0.2792 - val_accuracy: 0.9000 - lr: 4.0000e-04\n",
            "Epoch 15/20\n",
            "73/73 [==============================] - ETA: 0s - loss: 0.3505 - accuracy: 0.8426\n",
            "Epoch 15: val_accuracy improved from 0.90769 to 0.91538, saving model to resnet50.h5\n",
            "73/73 [==============================] - 9s 117ms/step - loss: 0.3505 - accuracy: 0.8426 - val_loss: 0.2657 - val_accuracy: 0.9154 - lr: 4.0000e-04\n",
            "Epoch 16/20\n",
            "73/73 [==============================] - ETA: 0s - loss: 0.3323 - accuracy: 0.8559\n",
            "Epoch 16: val_accuracy did not improve from 0.91538\n",
            "73/73 [==============================] - 8s 103ms/step - loss: 0.3323 - accuracy: 0.8559 - val_loss: 0.2612 - val_accuracy: 0.9154 - lr: 4.0000e-04\n",
            "Epoch 17/20\n",
            "73/73 [==============================] - ETA: 0s - loss: 0.3462 - accuracy: 0.8461\n",
            "Epoch 17: val_accuracy improved from 0.91538 to 0.91923, saving model to resnet50.h5\n",
            "73/73 [==============================] - 9s 118ms/step - loss: 0.3462 - accuracy: 0.8461 - val_loss: 0.2629 - val_accuracy: 0.9192 - lr: 4.0000e-04\n",
            "Epoch 18/20\n",
            "73/73 [==============================] - ETA: 0s - loss: 0.3434 - accuracy: 0.8461\n",
            "Epoch 18: val_accuracy did not improve from 0.91923\n",
            "73/73 [==============================] - 8s 104ms/step - loss: 0.3434 - accuracy: 0.8461 - val_loss: 0.2704 - val_accuracy: 0.9000 - lr: 4.0000e-04\n",
            "Epoch 19/20\n",
            "73/73 [==============================] - ETA: 0s - loss: 0.3389 - accuracy: 0.8533\n",
            "Epoch 19: val_accuracy did not improve from 0.91923\n",
            "\n",
            "Epoch 19: ReduceLROnPlateau reducing learning rate to 0.00016000000759959222.\n",
            "73/73 [==============================] - 8s 104ms/step - loss: 0.3389 - accuracy: 0.8533 - val_loss: 0.2603 - val_accuracy: 0.9192 - lr: 4.0000e-04\n",
            "Epoch 20/20\n",
            "73/73 [==============================] - ETA: 0s - loss: 0.3333 - accuracy: 0.8563\n",
            "Epoch 20: val_accuracy improved from 0.91923 to 0.92308, saving model to resnet50.h5\n",
            "73/73 [==============================] - 9s 118ms/step - loss: 0.3333 - accuracy: 0.8563 - val_loss: 0.2622 - val_accuracy: 0.9231 - lr: 1.6000e-04\n"
          ]
        },
        {
          "output_type": "execute_result",
          "data": {
            "text/plain": [
              "<keras.callbacks.History at 0x7fd5d64c5b50>"
            ]
          },
          "metadata": {},
          "execution_count": 16
        }
      ]
    },
    {
      "cell_type": "code",
      "source": [
        "model.compile(loss='categorical_crossentropy',optimizer = 'Adam', metrics= ['accuracy'])\n",
        "tensorboard = TensorBoard(log_dir = 'logs')\n",
        "checkpoint = ModelCheckpoint(\"ourmodel.h5\",monitor=\"val_accuracy\",save_best_only=True,mode=\"auto\",verbose=1)\n",
        "reduce_lr = ReduceLROnPlateau(monitor = 'val_accuracy', factor = 0.4, patience = 2, min_delta = 0.001,\n",
        "                              mode='auto',verbose=1)\n",
        "model.fit(X_train,y_train,validation_split=0.1, epochs =20, verbose=1, batch_size=32,\n",
        "                   callbacks=[tensorboard,checkpoint,reduce_lr])"
      ],
      "metadata": {
        "colab": {
          "base_uri": "https://localhost:8080/"
        },
        "id": "HsVTnwPyuh02",
        "outputId": "1458bfad-e11d-4885-e34c-fa1a9c3476f7"
      },
      "execution_count": 17,
      "outputs": [
        {
          "output_type": "stream",
          "name": "stdout",
          "text": [
            "Epoch 1/20\n",
            "73/73 [==============================] - ETA: 0s - loss: 30.8165 - accuracy: 0.7714\n",
            "Epoch 1: val_accuracy improved from -inf to 0.89231, saving model to ourmodel.h5\n",
            "73/73 [==============================] - 7s 71ms/step - loss: 30.8165 - accuracy: 0.7714 - val_loss: 0.2406 - val_accuracy: 0.8923 - lr: 0.0010\n",
            "Epoch 2/20\n",
            "73/73 [==============================] - ETA: 0s - loss: 0.1432 - accuracy: 0.9443\n",
            "Epoch 2: val_accuracy improved from 0.89231 to 0.98077, saving model to ourmodel.h5\n",
            "73/73 [==============================] - 4s 57ms/step - loss: 0.1432 - accuracy: 0.9443 - val_loss: 0.0782 - val_accuracy: 0.9808 - lr: 0.0010\n",
            "Epoch 3/20\n",
            "72/73 [============================>.] - ETA: 0s - loss: 0.0754 - accuracy: 0.9727\n",
            "Epoch 3: val_accuracy improved from 0.98077 to 0.99615, saving model to ourmodel.h5\n",
            "73/73 [==============================] - 4s 57ms/step - loss: 0.0758 - accuracy: 0.9721 - val_loss: 0.0353 - val_accuracy: 0.9962 - lr: 0.0010\n",
            "Epoch 4/20\n",
            "72/73 [============================>.] - ETA: 0s - loss: 0.0452 - accuracy: 0.9848\n",
            "Epoch 4: val_accuracy did not improve from 0.99615\n",
            "73/73 [==============================] - 4s 50ms/step - loss: 0.0451 - accuracy: 0.9850 - val_loss: 0.0479 - val_accuracy: 0.9769 - lr: 0.0010\n",
            "Epoch 5/20\n",
            "72/73 [============================>.] - ETA: 0s - loss: 0.0251 - accuracy: 0.9926\n",
            "Epoch 5: val_accuracy did not improve from 0.99615\n",
            "\n",
            "Epoch 5: ReduceLROnPlateau reducing learning rate to 0.0004000000189989805.\n",
            "73/73 [==============================] - 4s 52ms/step - loss: 0.0249 - accuracy: 0.9927 - val_loss: 0.0151 - val_accuracy: 0.9962 - lr: 0.0010\n",
            "Epoch 6/20\n",
            "73/73 [==============================] - ETA: 0s - loss: 0.0098 - accuracy: 0.9979\n",
            "Epoch 6: val_accuracy improved from 0.99615 to 1.00000, saving model to ourmodel.h5\n",
            "73/73 [==============================] - 4s 57ms/step - loss: 0.0098 - accuracy: 0.9979 - val_loss: 0.0067 - val_accuracy: 1.0000 - lr: 4.0000e-04\n",
            "Epoch 7/20\n",
            "73/73 [==============================] - ETA: 0s - loss: 0.0040 - accuracy: 1.0000\n",
            "Epoch 7: val_accuracy did not improve from 1.00000\n",
            "73/73 [==============================] - 4s 50ms/step - loss: 0.0040 - accuracy: 1.0000 - val_loss: 0.0075 - val_accuracy: 0.9962 - lr: 4.0000e-04\n",
            "Epoch 8/20\n",
            "72/73 [============================>.] - ETA: 0s - loss: 0.0042 - accuracy: 0.9983\n",
            "Epoch 8: val_accuracy did not improve from 1.00000\n",
            "\n",
            "Epoch 8: ReduceLROnPlateau reducing learning rate to 0.00016000000759959222.\n",
            "73/73 [==============================] - 4s 50ms/step - loss: 0.0043 - accuracy: 0.9983 - val_loss: 0.0108 - val_accuracy: 0.9962 - lr: 4.0000e-04\n",
            "Epoch 9/20\n",
            "72/73 [============================>.] - ETA: 0s - loss: 0.0026 - accuracy: 1.0000\n",
            "Epoch 9: val_accuracy did not improve from 1.00000\n",
            "73/73 [==============================] - 4s 50ms/step - loss: 0.0026 - accuracy: 1.0000 - val_loss: 0.0015 - val_accuracy: 1.0000 - lr: 1.6000e-04\n",
            "Epoch 10/20\n",
            "72/73 [============================>.] - ETA: 0s - loss: 0.0015 - accuracy: 1.0000\n",
            "Epoch 10: val_accuracy did not improve from 1.00000\n",
            "\n",
            "Epoch 10: ReduceLROnPlateau reducing learning rate to 6.40000042039901e-05.\n",
            "73/73 [==============================] - 4s 50ms/step - loss: 0.0016 - accuracy: 1.0000 - val_loss: 0.0014 - val_accuracy: 1.0000 - lr: 1.6000e-04\n",
            "Epoch 11/20\n",
            "73/73 [==============================] - ETA: 0s - loss: 0.0015 - accuracy: 1.0000\n",
            "Epoch 11: val_accuracy did not improve from 1.00000\n",
            "73/73 [==============================] - 4s 52ms/step - loss: 0.0015 - accuracy: 1.0000 - val_loss: 0.0013 - val_accuracy: 1.0000 - lr: 6.4000e-05\n",
            "Epoch 12/20\n",
            "72/73 [============================>.] - ETA: 0s - loss: 0.0013 - accuracy: 1.0000\n",
            "Epoch 12: val_accuracy did not improve from 1.00000\n",
            "\n",
            "Epoch 12: ReduceLROnPlateau reducing learning rate to 2.560000284574926e-05.\n",
            "73/73 [==============================] - 4s 50ms/step - loss: 0.0012 - accuracy: 1.0000 - val_loss: 0.0013 - val_accuracy: 1.0000 - lr: 6.4000e-05\n",
            "Epoch 13/20\n",
            "72/73 [============================>.] - ETA: 0s - loss: 0.0020 - accuracy: 0.9996\n",
            "Epoch 13: val_accuracy did not improve from 1.00000\n",
            "73/73 [==============================] - 4s 50ms/step - loss: 0.0020 - accuracy: 0.9996 - val_loss: 0.0011 - val_accuracy: 1.0000 - lr: 2.5600e-05\n",
            "Epoch 14/20\n",
            "72/73 [============================>.] - ETA: 0s - loss: 0.0015 - accuracy: 1.0000\n",
            "Epoch 14: val_accuracy did not improve from 1.00000\n",
            "\n",
            "Epoch 14: ReduceLROnPlateau reducing learning rate to 1.0240000847261399e-05.\n",
            "73/73 [==============================] - 4s 52ms/step - loss: 0.0015 - accuracy: 1.0000 - val_loss: 0.0011 - val_accuracy: 1.0000 - lr: 2.5600e-05\n",
            "Epoch 15/20\n",
            "72/73 [============================>.] - ETA: 0s - loss: 0.0013 - accuracy: 1.0000\n",
            "Epoch 15: val_accuracy did not improve from 1.00000\n",
            "73/73 [==============================] - 4s 51ms/step - loss: 0.0013 - accuracy: 1.0000 - val_loss: 0.0011 - val_accuracy: 1.0000 - lr: 1.0240e-05\n",
            "Epoch 16/20\n",
            "72/73 [============================>.] - ETA: 0s - loss: 0.0031 - accuracy: 0.9991\n",
            "Epoch 16: val_accuracy did not improve from 1.00000\n",
            "\n",
            "Epoch 16: ReduceLROnPlateau reducing learning rate to 4.09600033890456e-06.\n",
            "73/73 [==============================] - 4s 52ms/step - loss: 0.0031 - accuracy: 0.9991 - val_loss: 0.0011 - val_accuracy: 1.0000 - lr: 1.0240e-05\n",
            "Epoch 17/20\n",
            "73/73 [==============================] - ETA: 0s - loss: 0.0011 - accuracy: 1.0000\n",
            "Epoch 17: val_accuracy did not improve from 1.00000\n",
            "73/73 [==============================] - 4s 52ms/step - loss: 0.0011 - accuracy: 1.0000 - val_loss: 0.0011 - val_accuracy: 1.0000 - lr: 4.0960e-06\n",
            "Epoch 18/20\n",
            "72/73 [============================>.] - ETA: 0s - loss: 9.8671e-04 - accuracy: 1.0000\n",
            "Epoch 18: val_accuracy did not improve from 1.00000\n",
            "\n",
            "Epoch 18: ReduceLROnPlateau reducing learning rate to 1.6384001355618238e-06.\n",
            "73/73 [==============================] - 4s 53ms/step - loss: 9.7514e-04 - accuracy: 1.0000 - val_loss: 0.0011 - val_accuracy: 1.0000 - lr: 4.0960e-06\n",
            "Epoch 19/20\n",
            "72/73 [============================>.] - ETA: 0s - loss: 0.0017 - accuracy: 0.9996\n",
            "Epoch 19: val_accuracy did not improve from 1.00000\n",
            "73/73 [==============================] - 4s 50ms/step - loss: 0.0017 - accuracy: 0.9996 - val_loss: 0.0011 - val_accuracy: 1.0000 - lr: 1.6384e-06\n",
            "Epoch 20/20\n",
            "72/73 [============================>.] - ETA: 0s - loss: 9.1687e-04 - accuracy: 1.0000\n",
            "Epoch 20: val_accuracy did not improve from 1.00000\n",
            "\n",
            "Epoch 20: ReduceLROnPlateau reducing learning rate to 6.553600542247295e-07.\n",
            "73/73 [==============================] - 4s 52ms/step - loss: 9.0920e-04 - accuracy: 1.0000 - val_loss: 0.0011 - val_accuracy: 1.0000 - lr: 1.6384e-06\n"
          ]
        },
        {
          "output_type": "execute_result",
          "data": {
            "text/plain": [
              "<keras.callbacks.History at 0x7fd5d6171f50>"
            ]
          },
          "metadata": {},
          "execution_count": 17
        }
      ]
    },
    {
      "cell_type": "code",
      "source": [
        "# predict probabilities\n",
        "pred_prob1 = model_vgg16.predict(X_test)\n",
        "pred_prob2 = model_vgg19.predict(X_test)\n",
        "pred_prob3 = model_efficientnet.predict(X_test)\n",
        "pred_prob4 = model_inceptionv3.predict(X_test)\n",
        "pred_prob5 = model_resnet50.predict(X_test)\n",
        "pred_prob6 = model.predict(X_test)"
      ],
      "metadata": {
        "id": "JSB7eoLbHss9"
      },
      "execution_count": 18,
      "outputs": []
    },
    {
      "cell_type": "code",
      "source": [
        "y_test = np.argmax(y_test,axis=1)"
      ],
      "metadata": {
        "id": "za-Vz4zK3Pbz"
      },
      "execution_count": 22,
      "outputs": []
    },
    {
      "cell_type": "code",
      "source": [
        "from sklearn.metrics import roc_curve\n",
        "\n",
        "# roc curve for models\n",
        "fpr1, tpr1, thresh1 = roc_curve(y_test, pred_prob1[:,1], pos_label=1)\n",
        "fpr2, tpr2, thresh2 = roc_curve(y_test, pred_prob2[:,1], pos_label=1)\n",
        "fpr3, tpr3, thresh3 = roc_curve(y_test, pred_prob3[:,1], pos_label=1)\n",
        "fpr4, tpr4, thresh4 = roc_curve(y_test, pred_prob4[:,1], pos_label=1)\n",
        "fpr5, tpr5, thresh5 = roc_curve(y_test, pred_prob5[:,1], pos_label=1)\n",
        "fpr6, tpr6, thresh6 = roc_curve(y_test, pred_prob6[:,1], pos_label=1)\n",
        "\n",
        "# roc curve for tpr = fpr \n",
        "random_probs = [0 for i in range(len(y_test))]\n",
        "p_fpr, p_tpr, _ = roc_curve(y_test, random_probs, pos_label=1)"
      ],
      "metadata": {
        "id": "pl_tqxt1M1y6"
      },
      "execution_count": 23,
      "outputs": []
    },
    {
      "cell_type": "code",
      "source": [
        "from sklearn.metrics import roc_auc_score\n",
        "\n",
        "# auc scores\n",
        "auc_score_vgg16 = roc_auc_score(y_test, pred_prob1[:,1])\n",
        "auc_score_vgg19 = roc_auc_score(y_test, pred_prob2[:,1])\n",
        "auc_score_efficientnet = roc_auc_score(y_test, pred_prob3[:,1])\n",
        "auc_score_inceptionv3 = roc_auc_score(y_test, pred_prob4[:,1])\n",
        "auc_score_resnet50 = roc_auc_score(y_test, pred_prob5[:,1])\n",
        "auc_score_model = roc_auc_score(y_test, pred_prob6[:,1])\n",
        "\n",
        "print(auc_score_vgg16, auc_score_vgg19, auc_score_efficientnet, auc_score_inceptionv3, auc_score_resnet50, auc_score_model)"
      ],
      "metadata": {
        "colab": {
          "base_uri": "https://localhost:8080/"
        },
        "id": "ENolX_5GRrTE",
        "outputId": "57804270-2213-4ebc-e96d-5fa970238997"
      },
      "execution_count": 24,
      "outputs": [
        {
          "output_type": "stream",
          "name": "stdout",
          "text": [
            "0.9230399461616112 0.930606162572706 0.9424890640772965 0.9330961880498007 0.9704754122001634 1.0\n"
          ]
        }
      ]
    },
    {
      "cell_type": "code",
      "source": [
        "# matplotlib\n",
        "import matplotlib.pyplot as plt\n",
        "plt.style.use('seaborn')\n",
        "\n",
        "# plot roc curves\n",
        "plt.plot(fpr1, tpr1, linestyle='--',color='orange', label='VGG-16')\n",
        "plt.plot(fpr2, tpr2, linestyle='--',color='green', label='VGG-19')\n",
        "plt.plot(fpr3, tpr3, linestyle='--',color='yellow', label='EfficientNet')\n",
        "plt.plot(fpr4, tpr4, linestyle='--',color='violet', label='InceptionV3')\n",
        "plt.plot(fpr5, tpr5, linestyle='--',color='purple', label='ResNet50')\n",
        "plt.plot(fpr6, tpr6, linestyle='--',color='red', label='OurModel')\n",
        "plt.plot(p_fpr, p_tpr, linestyle='--', color='blue')\n",
        "# title\n",
        "plt.title('ROC curve')\n",
        "# x label\n",
        "plt.xlabel('False Positive Rate')\n",
        "# y label\n",
        "plt.ylabel('True Positive rate')\n",
        "\n",
        "plt.legend(loc='best')\n",
        "plt.savefig('ROC',dpi=300)\n",
        "plt.show();"
      ],
      "metadata": {
        "colab": {
          "base_uri": "https://localhost:8080/",
          "height": 376
        },
        "id": "hWfi5wqBEgNG",
        "outputId": "d38767d2-6182-4e18-ad7f-f10d4cdb57f1"
      },
      "execution_count": 25,
      "outputs": [
        {
          "output_type": "display_data",
          "data": {
            "text/plain": [
              "<Figure size 576x396 with 1 Axes>"
            ],
            "image/png": "[encoded data removed]"
          },
          "metadata": {}
        }
      ]
    },
    {
      "cell_type": "code",
      "source": [
        ""
      ],
      "metadata": {
        "id": "WvpmdasUGxJk"
      },
      "execution_count": null,
      "outputs": []
    }
  ]
}